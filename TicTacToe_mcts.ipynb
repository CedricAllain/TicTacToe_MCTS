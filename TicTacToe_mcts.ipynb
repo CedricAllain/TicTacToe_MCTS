{
 "cells": [
  {
   "cell_type": "markdown",
   "metadata": {
    "colab_type": "text",
    "id": "iA8rmV9drI2D"
   },
   "source": [
    "# Reinforcement Learning - Projet\n",
    "\n",
    "This is a notebook that implement Tic Tac Toe game with use of the Monte-Carlo tree search (MCTS) algorithm.\n",
    "This is part of the Reinforcement Learning course of E. LePennec, professor at École Polytechnique.\n",
    "\n",
    "Alexis Gerbeaux et Cédric Allain - février 2020"
   ]
  },
  {
   "cell_type": "markdown",
   "metadata": {},
   "source": [
    "Sources:\n",
    "\n",
    "    - Tic Tac Toe game: https://gist.github.com/eaorak/3966315\n",
    "    \n",
    "    - MCTSPY package: https://pypi.org/project/mctspy/"
   ]
  },
  {
   "cell_type": "markdown",
   "metadata": {
    "colab_type": "text",
    "id": "kF5jUqpK6_ul"
   },
   "source": [
    "## Packages"
   ]
  },
  {
   "cell_type": "code",
   "execution_count": 1,
   "metadata": {},
   "outputs": [],
   "source": [
    "# Set to True if use in Google Colab\n",
    "use_colab = False\n",
    "\n",
    "# Set to True if want to save results in Google Drive\n",
    "use_drive = False"
   ]
  },
  {
   "cell_type": "code",
   "execution_count": 2,
   "metadata": {
    "colab": {
     "base_uri": "https://localhost:8080/",
     "height": 51
    },
    "colab_type": "code",
    "id": "raq4JCV-rI2K",
    "outputId": "8e62d5e7-636b-4921-a79d-09b5067d2413"
   },
   "outputs": [],
   "source": [
    "from __future__ import division\n",
    "\n",
    "import pandas as pd\n",
    "import numpy as np\n",
    "import random\n",
    "import itertools\n",
    "import sys\n",
    "import time\n",
    "from tqdm import tqdm\n",
    "from collections import Counter\n",
    "from copy import deepcopy\n",
    "from functools import reduce\n",
    "import operator\n",
    "\n",
    "# MCTSPY \n",
    "if use_colab:\n",
    "    !pip install mctspy\n",
    "from mctspy.tree.nodes import TwoPlayersGameMonteCarloTreeSearchNode\n",
    "from mctspy.games.examples.tictactoe import TicTacToeGameState\n",
    "\n",
    "# Graphes\n",
    "import matplotlib.pyplot as plt\n",
    "import seaborn as sns\n",
    "sns.set(color_codes=True)"
   ]
  },
  {
   "cell_type": "code",
   "execution_count": 3,
   "metadata": {},
   "outputs": [],
   "source": [
    "if use_drive:\n",
    "    from google.colab import drive\n",
    "    drive.mount('drive')"
   ]
  },
  {
   "cell_type": "markdown",
   "metadata": {
    "colab_type": "text",
    "id": "y8FE-tdyrI2e"
   },
   "source": [
    "## Tic tac toe (jeu du morpion)"
   ]
  },
  {
   "cell_type": "markdown",
   "metadata": {
    "colab_type": "text",
    "id": "PDE3Q_vOQN8A"
   },
   "source": [
    "In this notebook, we implement a game of Tic Tac Toe.\n",
    "We create it so 2 automatic players can play together, with different level of difficulty: random, smart and mcts.\n",
    "We used the following implementation of Tic Tac Toe game, that we adapted to our needs: https://gist.github.com/eaorak/3966315\n",
    "\n",
    "The level 'mcts' corresponds to the level of difficulty where the player choose its actions based on a Monte-Carle tree search.\n",
    "Do to so, we use the package mctspy: https://pypi.org/project/mctspy/, with its own TicTacToe example (https://github.com/int8/monte-carlo-tree-search/blob/master/mctspy/games/examples/tictactoe.py)\n",
    "\n",
    "We also use some of the code in the package MCTS (https://github.com/pbsinclair42/MCTS) and in its Tic Tac Toe implementation (https://github.com/pbsinclair42/MCTS/blob/master/naughtsandcrosses.py)"
   ]
  },
  {
   "cell_type": "code",
   "execution_count": 4,
   "metadata": {
    "colab": {},
    "colab_type": "code",
    "id": "kcLC3SwFQN8D"
   },
   "outputs": [],
   "source": [
    "class TicTacToeState():\n",
    "    def __init__(self, board=None, first_player=1):\n",
    "        if board is not None:\n",
    "            if len(board.shape) != 2 or (board.shape[0] != board.shape[1]):\n",
    "                raise ValueError(\"Only 2D square boards allowed\")\n",
    "            else:\n",
    "                self.board = np.array(board)\n",
    "        else:\n",
    "            self.board = np.zeros((3,3))\n",
    "            \n",
    "        self.board_size = self.board.shape[0]\n",
    "        \n",
    "        if first_player not in [1,-1]:\n",
    "            raise ValueError(\"First player must be equal to 1 (player) or -1 (computer).\")\n",
    "        #self.currentPlayer = first_player\n",
    "        self.next_to_move = first_player\n",
    "        \n",
    "        self.corners = [[0,0],\n",
    "                        [0, self.board_size-1],\n",
    "                        [self.board_size-1, 0],\n",
    "                        [self.board_size-1, self.board_size-1]]\n",
    "        self.center = [int(self.board_size/2), int(self.board_size/2)]\n",
    "    \n",
    "    \n",
    "    def get_legal_actions(self):\n",
    "        \"\"\"Given a current state, return all the posssible actions\"\"\"\n",
    "        return [Action(player=self.next_to_move, x=idx[0], y=idx[1])\n",
    "                for idx in np.argwhere(self.board==0)]\n",
    "\n",
    "\n",
    "    def move(self, action):\n",
    "        newState = deepcopy(self)\n",
    "        newState.board[action.x][action.y] = action.player\n",
    "        newState.next_to_move = self.next_to_move * -1\n",
    "        return newState\n",
    "    \n",
    "    \n",
    "    def takeRandomAction(self):\n",
    "        return self.move(action=random.choice(self.get_legal_actions()))\n",
    "    \n",
    "    \n",
    "    def takeSmartAction(self):\n",
    "        \"\"\" Play a 'smart' action: \n",
    "            - win if it can\n",
    "            - block opponent if it can win next\n",
    "            - otherwise, play a action following the rule :\n",
    "                first the corners then the center, otherwise a random available position \"\"\"\n",
    "        possible_actions = self.get_legal_actions()\n",
    "        \n",
    "        # win if it can\n",
    "        for action in possible_actions:\n",
    "            newState = self.move(action)\n",
    "            if newState.gameResult() == [True, action.player]:\n",
    "                return self.move(action)\n",
    "            \n",
    "        # block opponent if is going to win\n",
    "        for action in possible_actions:\n",
    "            actionOpponent = deepcopy(action)\n",
    "            actionOpponent.player = action.player * -1\n",
    "            newState = self.move(actionOpponent)\n",
    "            if newState.gameResult() == [True, actionOpponent.player]:\n",
    "                return self.move(action)\n",
    "\n",
    "        # play randomly\n",
    "        return self.move(action=random.choice(possible_actions))\n",
    "\n",
    "    \n",
    "    def gameResult(self):\n",
    "        for row in self.board:\n",
    "            if abs(sum(row)) == self.board_size:\n",
    "                is_terminal = True\n",
    "                reward = sum(row) / self.board_size\n",
    "                return [is_terminal, reward]\n",
    "        \n",
    "        for column in self.board.T:\n",
    "            if abs(sum(column)) == self.board_size:\n",
    "                is_terminal = True\n",
    "                reward = sum(column) / self.board_size\n",
    "                return [is_terminal, reward]\n",
    "\n",
    "        first_diag = self.board.trace()\n",
    "        second_diag = self.board[::-1].trace()\n",
    "        \n",
    "        for diagonal in [first_diag, second_diag]:\n",
    "            if abs(diagonal) == self.board_size:\n",
    "                is_terminal = True\n",
    "                reward = diagonal / self.board_size\n",
    "                return [is_terminal, reward]\n",
    "        \n",
    "        if np.all(self.board != 0):\n",
    "            is_terminal = True\n",
    "            reward = 0\n",
    "            return [is_terminal, reward]\n",
    "        \n",
    "        return [0, None]\n",
    "\n",
    "    \n",
    "    def is_game_over(self):\n",
    "        return self.gameResult()[0]\n",
    "    \n",
    "\n",
    "    def game_result(self):\n",
    "        return self.gameResult()[1]\n",
    "    \n",
    "\n",
    "    def __repr__(self):\n",
    "        \"\"\"print game board\"\"\"\n",
    "        res = '---------\\n'\n",
    "        for row in self.board:\n",
    "            for idx, val in enumerate(row):\n",
    "                end = ' | '\n",
    "                if idx == len(row)-1: end = ' \\n'\n",
    "                res += self.getMarker(val) + end\n",
    "            res += '---------\\n'\n",
    "                    \n",
    "        return res\n",
    "    \n",
    "    \n",
    "    @staticmethod\n",
    "    def getMarker(val):\n",
    "        \"\"\"Transform an integer (1, -1 or 0) into a marker ('X', 'O' or ' ').\"\"\"\n",
    "        if val == 1:\n",
    "            return 'X'\n",
    "        elif val == -1:\n",
    "            return 'O'\n",
    "        elif val == 0:\n",
    "            return ' '\n",
    "        else:\n",
    "            print('Value must be equal to 1, -1 or O.')\n",
    "        return None\n",
    "            \n",
    "        \n",
    "\n",
    "class Action():\n",
    "    def __init__(self, player, x, y):\n",
    "        self.player = player\n",
    "        self.x = x\n",
    "        self.y = y\n",
    "\n",
    "    def __str__(self):\n",
    "        return str((self.x, self.y))\n",
    "\n",
    "    def __repr__(self):\n",
    "        return str(self)\n",
    "\n",
    "    def __eq__(self, other):\n",
    "        return self.__class__ == other.__class__ and self.x == other.x and self.y == other.y and self.player == other.player\n",
    "\n",
    "    def __hash__(self):\n",
    "        return hash((self.x, self.y, self.player))"
   ]
  },
  {
   "cell_type": "markdown",
   "metadata": {
    "colab_type": "text",
    "id": "ekejzf-WQN8M"
   },
   "source": [
    "We modify the MonteCarloTreeSearch class to add the parameter c_param in the function best_action(), that control for the exploration constant.\n",
    "\n",
    "source: https://github.com/int8/monte-carlo-tree-search/blob/master/mctspy/tree/search.py  "
   ]
  },
  {
   "cell_type": "code",
   "execution_count": 5,
   "metadata": {
    "colab": {},
    "colab_type": "code",
    "id": "Au84nm-TQN8Q"
   },
   "outputs": [],
   "source": [
    "class MonteCarloTreeSearch(object):\n",
    "\n",
    "    def __init__(self, node):\n",
    "        \"\"\"\n",
    "        MonteCarloTreeSearchNode\n",
    "        Parameters\n",
    "        ----------\n",
    "        node : mctspy.tree.nodes.MonteCarloTreeSearchNode\n",
    "        \"\"\"\n",
    "        self.root = node\n",
    "\n",
    "        \n",
    "    def best_action(self, simulations_number=1000, c_param=1.4):\n",
    "        \"\"\"\n",
    "        Parameters\n",
    "        ----------\n",
    "        simulations_number: int\n",
    "            number of simulations performed to get the best action\n",
    "        c_param: double\n",
    "            exploration constant\n",
    "        Returns\n",
    "        -------\n",
    "        \"\"\"\n",
    "        for _ in range(0, simulations_number):            \n",
    "            v = self._tree_policy()\n",
    "            reward = v.rollout()\n",
    "            v.backpropagate(reward)\n",
    "        # to select best child go for exploitation only\n",
    "        return self.root.best_child(c_param=c_param)\n",
    "    \n",
    "    \n",
    "    def _tree_policy(self):\n",
    "        \"\"\"\n",
    "        selects node to run rollout/playout for\n",
    "        Returns\n",
    "        -------\n",
    "        \"\"\"\n",
    "        current_node = self.root\n",
    "        while not current_node.is_terminal_node():\n",
    "            if not current_node.is_fully_expanded():\n",
    "                return current_node.expand()\n",
    "            else:\n",
    "                current_node = current_node.best_child()\n",
    "        return current_node"
   ]
  },
  {
   "cell_type": "markdown",
   "metadata": {
    "colab_type": "text",
    "id": "Copcj7S3QN8Y"
   },
   "source": [
    "Then we define a function that plays a game of Tic Tac Toe between a 'player' and a computer.\n",
    "Both have their own policy to play.\n",
    "\n",
    "There is 3 possible policies:\n",
    "\n",
    "    - random: play a random move among those possible\n",
    "    \n",
    "    - smart: win if can, block its opponent if he can win next, or moves randomly\n",
    "    \n",
    "    - mcts: select the best action to do using Monte Carlo tree search"
   ]
  },
  {
   "cell_type": "code",
   "execution_count": 6,
   "metadata": {
    "colab": {},
    "colab_type": "code",
    "id": "zFNZGWKWQN8a"
   },
   "outputs": [],
   "source": [
    "def playTicTacToe(board=None,\n",
    "                  method_player='mcts',\n",
    "                  method_computer='random',\n",
    "                  first_player=1,\n",
    "                  print_board=False,\n",
    "                  return_board=False,\n",
    "                  simulations_number=1000,\n",
    "                  c_param=1.0):\n",
    "    \"\"\"\n",
    "    Play a game of Tic Tac Toe automatically between a 'player' and the computer.\n",
    "    \n",
    "    Parameters:\n",
    "        board: 2D array, the board to play Tic Tac Toc,\n",
    "            if None, initialize with np.zeros((3,3))\n",
    "        method_player: string, method to play against the computer\n",
    "            default 'mcts' (see Methods for other values)\n",
    "        method_computer: string, method used by the computer to play\n",
    "            default 'random' (see Methods for other values)\n",
    "        first_player: integer, default 1\n",
    "            (1: the \"user\" plays first, -1: the computer plays first)\n",
    "        simulations_number: integer, the number of iterations for a MCTS.\n",
    "        c_param: double, the exploration constant for the MCTS\n",
    "            \n",
    "    Methods:\n",
    "        random: play a random move among those possible\n",
    "        smart: win if can, block its opponent if he can win next, or moves randomly\n",
    "        mcts: select the best action to do using Monte Carlo tree search \n",
    "    \"\"\"\n",
    "    \n",
    "    game = TicTacToeState(board=board, first_player=first_player)\n",
    "    \n",
    "    list_board = []\n",
    "    \n",
    "    while not game.is_game_over():\n",
    "        if game.next_to_move == 1:\n",
    "            method = method_player\n",
    "        elif game.next_to_move == -1:\n",
    "            method = method_computer\n",
    "        else:\n",
    "            raise ValueError(\"Current player must be equal to 1 (player) or -1 (computer).\")\n",
    "        \n",
    "        if method == 'random':\n",
    "            game = game.takeRandomAction()\n",
    "        elif method == 'smart':\n",
    "            game = game.takeSmartAction()\n",
    "        elif method == 'mcts':\n",
    "            initial_board_state = TicTacToeGameState(state=game.board, next_to_move=game.next_to_move)\n",
    "            root = TwoPlayersGameMonteCarloTreeSearchNode(state=initial_board_state)\n",
    "            best_node = MonteCarloTreeSearch(root).best_action(simulations_number=simulations_number, c_param=c_param)\n",
    "            game.board = best_node.state.board\n",
    "            game.next_to_move *= -1\n",
    "        else:\n",
    "            raise ValueError(\"Method unkown. Please select a method in ['random', 'smart', 'mcts'].\")\n",
    "    \n",
    "        if print_board: print(game)\n",
    "        if return_board: list_board.append(game.board)\n",
    "            \n",
    "    if return_board:\n",
    "        return game.game_result(), list_board\n",
    "    else:\n",
    "        return game.game_result()   "
   ]
  },
  {
   "cell_type": "markdown",
   "metadata": {
    "colab_type": "text",
    "id": "5PmfeQyQQN8x"
   },
   "source": [
    "An example of automatic game of a mcts player against a 'smart' computer"
   ]
  },
  {
   "cell_type": "code",
   "execution_count": 7,
   "metadata": {
    "colab": {
     "base_uri": "https://localhost:8080/",
     "height": 1000
    },
    "colab_type": "code",
    "id": "wKwkRqTGQN80",
    "outputId": "b7c58226-5fa7-419d-fe8e-30202d5652fa"
   },
   "outputs": [
    {
     "name": "stdout",
     "output_type": "stream",
     "text": [
      "---------\n",
      "  |   |   \n",
      "---------\n",
      "  | O |   \n",
      "---------\n",
      "  |   |   \n",
      "---------\n",
      "\n",
      "---------\n",
      "X |   |   \n",
      "---------\n",
      "  | O |   \n",
      "---------\n",
      "  |   |   \n",
      "---------\n",
      "\n",
      "---------\n",
      "X |   | O \n",
      "---------\n",
      "  | O |   \n",
      "---------\n",
      "  |   |   \n",
      "---------\n",
      "\n",
      "---------\n",
      "X |   | O \n",
      "---------\n",
      "  | O |   \n",
      "---------\n",
      "X |   |   \n",
      "---------\n",
      "\n",
      "---------\n",
      "X |   | O \n",
      "---------\n",
      "O | O |   \n",
      "---------\n",
      "X |   |   \n",
      "---------\n",
      "\n",
      "---------\n",
      "X |   | O \n",
      "---------\n",
      "O | O | X \n",
      "---------\n",
      "X |   |   \n",
      "---------\n",
      "\n",
      "---------\n",
      "X |   | O \n",
      "---------\n",
      "O | O | X \n",
      "---------\n",
      "X |   | O \n",
      "---------\n",
      "\n",
      "---------\n",
      "X |   | O \n",
      "---------\n",
      "O | O | X \n",
      "---------\n",
      "X | X | O \n",
      "---------\n",
      "\n",
      "---------\n",
      "X | O | O \n",
      "---------\n",
      "O | O | X \n",
      "---------\n",
      "X | X | O \n",
      "---------\n",
      "\n",
      "CPU times: user 3.86 s, sys: 98.5 ms, total: 3.96 s\n",
      "Wall time: 4.29 s\n"
     ]
    },
    {
     "data": {
      "text/plain": [
       "0"
      ]
     },
     "execution_count": 7,
     "metadata": {},
     "output_type": "execute_result"
    }
   ],
   "source": [
    "%%time\n",
    "playTicTacToe(board=None,\n",
    "              method_player='mcts',\n",
    "              method_computer='smart',\n",
    "              first_player=-1, # 1: player first, -1: computer first\n",
    "              print_board=True,\n",
    "              simulations_number=1000,\n",
    "              c_param=0)"
   ]
  },
  {
   "cell_type": "markdown",
   "metadata": {
    "colab_type": "text",
    "id": "3UD9HtnPQN8-"
   },
   "source": [
    "We now explore the difference between the different game policies."
   ]
  },
  {
   "cell_type": "code",
   "execution_count": 8,
   "metadata": {},
   "outputs": [],
   "source": [
    "# Number of games to play to compute statistics\n",
    "n_games = 1000"
   ]
  },
  {
   "cell_type": "code",
   "execution_count": 9,
   "metadata": {
    "colab": {},
    "colab_type": "code",
    "id": "3LZeSfjhQN8_"
   },
   "outputs": [],
   "source": [
    "def getResultProp(counter):\n",
    "  \"\"\"Compute proportion of win/loss/deuce for a given Counter object\"\"\"\n",
    "  n_games = sum(counter.values(), 0.0)\n",
    "  counter_prop = counter.copy()\n",
    "  for key in counter_prop:\n",
    "      counter_prop[key] /= n_games\n",
    "  return counter_prop\n",
    "\n",
    "\n",
    "def getDictResult(counter, method='random', player=1, first_player=1):\n",
    "  \"\"\"For a given player (most of the time player '1', not the computer),\n",
    "  return a dictionnary with the results of several games\"\"\"\n",
    "\n",
    "  if first_player==player:\n",
    "    play_order = 1\n",
    "  else:\n",
    "    play_order = 2\n",
    "\n",
    "  dict_res = {'method':method,\n",
    "              'play_order':play_order,\n",
    "              'victory':counter[player],\n",
    "              'draw':counter[0],\n",
    "              'defeat':counter[player*-1]}\n",
    "\n",
    "  return dict_res"
   ]
  },
  {
   "cell_type": "markdown",
   "metadata": {
    "colab_type": "text",
    "id": "P1DEa3y3IgG1"
   },
   "source": [
    "We will store the results in DataFrames. Two DataFrames will thus be built: one where we compete against a random computer and one where the computer is 'smart'. We also create two other DataFrames for when we will modify the value of the hyper parameters of the MCTS."
   ]
  },
  {
   "cell_type": "code",
   "execution_count": 10,
   "metadata": {
    "colab": {},
    "colab_type": "code",
    "id": "sNEwe7FdJDze"
   },
   "outputs": [],
   "source": [
    "columns = ['method', 'play_order', 'victory', 'draw', 'defeat']\n",
    "df_random = pd.DataFrame(columns=columns)\n",
    "df_smart = pd.DataFrame(columns=columns)\n",
    "df_simulations_number = pd.DataFrame(columns=columns)\n",
    "df_exploration = pd.DataFrame(columns=columns)"
   ]
  },
  {
   "cell_type": "markdown",
   "metadata": {
    "colab_type": "text",
    "id": "HNUyjkYCQN9D"
   },
   "source": [
    "## Two random players"
   ]
  },
  {
   "cell_type": "code",
   "execution_count": 11,
   "metadata": {
    "colab": {
     "base_uri": "https://localhost:8080/",
     "height": 102
    },
    "colab_type": "code",
    "id": "WLvKTaGRQN9Q",
    "outputId": "9045157b-4d6d-447d-a5fc-85a9ce40eaf4"
   },
   "outputs": [
    {
     "name": "stdout",
     "output_type": "stream",
     "text": [
      "Number of games:  1000\n",
      "Two random players (computer plays second): \n",
      " Counter({1.0: 0.573, -1.0: 0.298, 0: 0.129})\n",
      "CPU times: user 1.4 s, sys: 32 ms, total: 1.43 s\n",
      "Wall time: 1.58 s\n"
     ]
    }
   ],
   "source": [
    "%%time\n",
    "res_list = []\n",
    "for _ in range(n_games):\n",
    "  res = playTicTacToe(board=None,\n",
    "                      method_player='random',\n",
    "                      method_computer='random',\n",
    "                      first_player=1, # computer plays second\n",
    "                      print_board=False)\n",
    "  res_list.append(res)\n",
    "    \n",
    "print(\"Number of games: \", n_games)\n",
    "count_res = Counter(res_list)\n",
    "print('Two random players (computer plays second): \\n',\n",
    "      getResultProp(count_res))\n",
    "\n",
    "# Save results into csv\n",
    "dict_res = getDictResult(counter=count_res,\n",
    "                         method='random',\n",
    "                         player=1,\n",
    "                         first_player=1)\n",
    "df_random = df_random.append(dict_res , ignore_index=True)\n",
    "df_random.to_csv('df_random.csv', sep=';')\n",
    "if use_drive:\n",
    "    !cp df_random.csv \"drive/My Drive/RL/\""
   ]
  },
  {
   "cell_type": "markdown",
   "metadata": {
    "colab_type": "text",
    "id": "Z_U2SXNqQN9a"
   },
   "source": [
    "When two random players play together, there is not an equilibrium between the number of win/loss/deuce.\n",
    "Indeed, the player that plays first has an advantage and wins most of the time (almost 60% of the time).\n",
    "\n",
    "In the game of Tic Tac Toe, the board has 9 places, so the first player can have one more marker than the second player."
   ]
  },
  {
   "cell_type": "markdown",
   "metadata": {
    "colab_type": "text",
    "id": "xrSFdAw-QN9e"
   },
   "source": [
    "## A 'smart' player against an random computer"
   ]
  },
  {
   "cell_type": "code",
   "execution_count": 12,
   "metadata": {
    "colab": {
     "base_uri": "https://localhost:8080/",
     "height": 102
    },
    "colab_type": "code",
    "id": "QPAr7yJZQN9g",
    "outputId": "e2e747c8-ced3-48f3-eb64-7fead72c6807"
   },
   "outputs": [
    {
     "name": "stdout",
     "output_type": "stream",
     "text": [
      "Number of games:  1000\n",
      "\n",
      " first player:  -1\n",
      "A 'smart' player against an random computer: \n",
      " Counter({1.0: 0.684, 0: 0.258, -1.0: 0.058})\n",
      "\n",
      " first player:  1\n",
      "A 'smart' player against an random computer: \n",
      " Counter({1.0: 0.911, 0: 0.07, -1.0: 0.019})\n",
      "CPU times: user 11.8 s, sys: 213 ms, total: 12 s\n",
      "Wall time: 12.6 s\n"
     ]
    }
   ],
   "source": [
    "%%time\n",
    "print(\"Number of games: \", n_games)\n",
    "for first_player in [-1, 1]:\n",
    "    print(\"\\n first player: \", first_player)\n",
    "    res_list = []\n",
    "    for _ in range(n_games):\n",
    "      res = playTicTacToe(board=None,\n",
    "                          method_player='smart',\n",
    "                          method_computer='random',\n",
    "                          first_player=first_player,\n",
    "                          print_board=False)\n",
    "      res_list.append(res)\n",
    "\n",
    "    \n",
    "    \n",
    "    count_res = Counter(res_list)\n",
    "    print(\"A 'smart' player against an random computer: \\n\",\n",
    "          getResultProp(count_res))\n",
    "\n",
    "    # Save results into csv and on the Drive\n",
    "    dict_res = getDictResult(counter=count_res,\n",
    "                             method='smart',\n",
    "                             player=1,\n",
    "                             first_player=first_player)\n",
    "    df_random = df_random.append(dict_res , ignore_index=True)\n",
    "    df_random.to_csv('df_random.csv', sep=';')\n",
    "    if use_drive:\n",
    "        !cp df_random.csv \"drive/My Drive/RL/\""
   ]
  },
  {
   "cell_type": "markdown",
   "metadata": {
    "colab_type": "text",
    "id": "3_q_74pLQN9s"
   },
   "source": [
    "We can observe that, even when it is the random player that plays first, the smart player succeed to win almost 70% of the time.\n",
    "But, there is still 25% of draws, and the smart player can lose sometimes.\n",
    "We will give an example where the random player, thanks to the fact that he plays first, can, unwillingly, trick the smart player.\n",
    "\n",
    "But, we can also observe that when it is the smart player that plays first, this on wins more than 90% of the time, the rest of the time the game finishes with a draw.\n",
    "It is extremely rare that the random player beats the smart one when it is the latter that plays first.\n",
    "Though, the probability is not null."
   ]
  },
  {
   "cell_type": "code",
   "execution_count": 13,
   "metadata": {
    "colab": {},
    "colab_type": "code",
    "id": "8mRWLPQDQN9t"
   },
   "outputs": [],
   "source": [
    "def display_board_history(list_board):\n",
    "    \"\"\"Display the hisory of boards for a game\"\"\"\n",
    "    for board in list_board:\n",
    "        print(repr_board(board))\n",
    "    return None\n",
    "\n",
    "\n",
    "def repr_board(board):\n",
    "    \"\"\"print game board\"\"\"\n",
    "    res = '---------\\n'\n",
    "    for row in board:\n",
    "        for idx, val in enumerate(row):\n",
    "            end = ' | '\n",
    "            if idx == len(row)-1: end = ' \\n'\n",
    "            res += getMarker(val) + end\n",
    "        res += '---------\\n'\n",
    "\n",
    "    return res\n",
    "    \n",
    "    \n",
    "def getMarker(val):\n",
    "    \"\"\"Transform an integer (1, -1 or 0) into a marker ('X', 'O' or ' ').\"\"\"\n",
    "    if val == 1:\n",
    "        return 'X'\n",
    "    elif val == -1:\n",
    "        return 'O'\n",
    "    elif val == 0:\n",
    "        return ' '\n",
    "    else:\n",
    "        print('Value must be equal to 1, -1 or O.')\n",
    "    return None"
   ]
  },
  {
   "cell_type": "code",
   "execution_count": 14,
   "metadata": {
    "colab": {},
    "colab_type": "code",
    "id": "CyOz1SAwQN9w"
   },
   "outputs": [
    {
     "name": "stdout",
     "output_type": "stream",
     "text": [
      "---------\n",
      "  |   |   \n",
      "---------\n",
      "  | O |   \n",
      "---------\n",
      "  |   |   \n",
      "---------\n",
      "\n",
      "---------\n",
      "  |   |   \n",
      "---------\n",
      "  | O | X \n",
      "---------\n",
      "  |   |   \n",
      "---------\n",
      "\n",
      "---------\n",
      "  |   |   \n",
      "---------\n",
      "  | O | X \n",
      "---------\n",
      "O |   |   \n",
      "---------\n",
      "\n",
      "---------\n",
      "  |   | X \n",
      "---------\n",
      "  | O | X \n",
      "---------\n",
      "O |   |   \n",
      "---------\n",
      "\n",
      "---------\n",
      "  |   | X \n",
      "---------\n",
      "  | O | X \n",
      "---------\n",
      "O |   | O \n",
      "---------\n",
      "\n",
      "---------\n",
      "X |   | X \n",
      "---------\n",
      "  | O | X \n",
      "---------\n",
      "O |   | O \n",
      "---------\n",
      "\n",
      "---------\n",
      "X |   | X \n",
      "---------\n",
      "  | O | X \n",
      "---------\n",
      "O | O | O \n",
      "---------\n",
      "\n"
     ]
    }
   ],
   "source": [
    "res = 1\n",
    "while not res==-1:\n",
    "    res, list_board = playTicTacToe(board=None,\n",
    "                                    method_player='smart',\n",
    "                                    method_computer='random',\n",
    "                                    first_player=-1, # computer plays second\n",
    "                                    print_board=False,\n",
    "                                    return_board=True)\n",
    "    \n",
    "display_board_history(list_board)"
   ]
  },
  {
   "cell_type": "markdown",
   "metadata": {
    "colab_type": "text",
    "id": "Q4gu4m33QN9z"
   },
   "source": [
    "This is an example where a random player, that plays randomly, succeed to unwillingly trick a smart player.\n",
    "\n",
    "We can observe that the same scenario can happen even when it is the smart player that plays first, as show after."
   ]
  },
  {
   "cell_type": "code",
   "execution_count": 15,
   "metadata": {
    "colab": {},
    "colab_type": "code",
    "id": "8tukikxHQN90"
   },
   "outputs": [
    {
     "name": "stdout",
     "output_type": "stream",
     "text": [
      "---------\n",
      "  |   |   \n",
      "---------\n",
      "  |   |   \n",
      "---------\n",
      "  | X |   \n",
      "---------\n",
      "\n",
      "---------\n",
      "  |   |   \n",
      "---------\n",
      "  |   |   \n",
      "---------\n",
      "O | X |   \n",
      "---------\n",
      "\n",
      "---------\n",
      "  |   |   \n",
      "---------\n",
      "  |   |   \n",
      "---------\n",
      "O | X | X \n",
      "---------\n",
      "\n",
      "---------\n",
      "  |   |   \n",
      "---------\n",
      "O |   |   \n",
      "---------\n",
      "O | X | X \n",
      "---------\n",
      "\n",
      "---------\n",
      "X |   |   \n",
      "---------\n",
      "O |   |   \n",
      "---------\n",
      "O | X | X \n",
      "---------\n",
      "\n",
      "---------\n",
      "X |   |   \n",
      "---------\n",
      "O | O |   \n",
      "---------\n",
      "O | X | X \n",
      "---------\n",
      "\n",
      "---------\n",
      "X |   | X \n",
      "---------\n",
      "O | O |   \n",
      "---------\n",
      "O | X | X \n",
      "---------\n",
      "\n",
      "---------\n",
      "X |   | X \n",
      "---------\n",
      "O | O | O \n",
      "---------\n",
      "O | X | X \n",
      "---------\n",
      "\n"
     ]
    }
   ],
   "source": [
    "res = 1\n",
    "while not res==-1:\n",
    "    res, list_board = playTicTacToe(board=None,\n",
    "                                    method_player='smart',\n",
    "                                    method_computer='random',\n",
    "                                    first_player=1, # computer plays second\n",
    "                                    print_board=False,\n",
    "                                    return_board=True)\n",
    "    \n",
    "display_board_history(list_board)"
   ]
  },
  {
   "cell_type": "markdown",
   "metadata": {
    "colab_type": "text",
    "id": "1vmIOvDwQN9_"
   },
   "source": [
    "## Two 'smart' players"
   ]
  },
  {
   "cell_type": "code",
   "execution_count": 16,
   "metadata": {
    "colab": {
     "base_uri": "https://localhost:8080/",
     "height": 102
    },
    "colab_type": "code",
    "id": "Ih-u077oQN-S",
    "outputId": "cfd79a47-76bd-4552-cf70-64cfd7588717"
   },
   "outputs": [
    {
     "name": "stdout",
     "output_type": "stream",
     "text": [
      "Number of games:  1000\n",
      "Two 'smart' players (computer plays second): \n",
      " Counter({0: 0.485, 1.0: 0.346, -1.0: 0.169})\n",
      "CPU times: user 11.5 s, sys: 160 ms, total: 11.7 s\n",
      "Wall time: 12.4 s\n"
     ]
    }
   ],
   "source": [
    "%%time\n",
    "# computer plays second\n",
    "res_list = []\n",
    "for _ in range(n_games):\n",
    "  res = playTicTacToe(board=None,\n",
    "                      method_player='smart',\n",
    "                      method_computer='smart',\n",
    "                      first_player=1, # computer plays second\n",
    "                      print_board=False)\n",
    "  res_list.append(res)\n",
    "    \n",
    "print(\"Number of games: \", n_games)\n",
    "count_res = Counter(res_list)\n",
    "print(\"Two 'smart' players (computer plays second): \\n\",\n",
    "      getResultProp(count_res))\n",
    "\n",
    "# Save results into csv and on the Drive\n",
    "dict_res = getDictResult(counter=count_res,\n",
    "                         method='smart',\n",
    "                         player=1,\n",
    "                         first_player=1)\n",
    "df_smart = df_smart.append(dict_res , ignore_index=True)\n",
    "df_smart.to_csv('df_smart.csv', sep=';')\n",
    "if use_drive:\n",
    "    !cp df_smart.csv \"drive/My Drive/RL/\""
   ]
  },
  {
   "cell_type": "markdown",
   "metadata": {
    "colab_type": "text",
    "id": "NQrl3fYPQN-V"
   },
   "source": [
    "When two smart players play together, the game finishes most of the time with a draw (around 50% of the time).\n",
    "But, we can notice that the first player has an advantage over the other player, as the player that goes first win around 30% of the time and loses only 15% of the time."
   ]
  },
  {
   "cell_type": "code",
   "execution_count": 17,
   "metadata": {
    "colab": {
     "base_uri": "https://localhost:8080/",
     "height": 1000
    },
    "colab_type": "code",
    "id": "BBmCM3iXQN-W",
    "outputId": "1203ac32-7481-4091-d44c-7ecf005d2ad3"
   },
   "outputs": [
    {
     "name": "stdout",
     "output_type": "stream",
     "text": [
      "---------\n",
      "  |   |   \n",
      "---------\n",
      "  |   |   \n",
      "---------\n",
      "  | X |   \n",
      "---------\n",
      "\n",
      "---------\n",
      "  |   | O \n",
      "---------\n",
      "  |   |   \n",
      "---------\n",
      "  | X |   \n",
      "---------\n",
      "\n",
      "---------\n",
      "  | X | O \n",
      "---------\n",
      "  |   |   \n",
      "---------\n",
      "  | X |   \n",
      "---------\n",
      "\n",
      "---------\n",
      "  | X | O \n",
      "---------\n",
      "  | O |   \n",
      "---------\n",
      "  | X |   \n",
      "---------\n",
      "\n",
      "---------\n",
      "  | X | O \n",
      "---------\n",
      "  | O |   \n",
      "---------\n",
      "X | X |   \n",
      "---------\n",
      "\n",
      "---------\n",
      "  | X | O \n",
      "---------\n",
      "  | O |   \n",
      "---------\n",
      "X | X | O \n",
      "---------\n",
      "\n",
      "---------\n",
      "X | X | O \n",
      "---------\n",
      "  | O |   \n",
      "---------\n",
      "X | X | O \n",
      "---------\n",
      "\n",
      "---------\n",
      "X | X | O \n",
      "---------\n",
      "  | O | O \n",
      "---------\n",
      "X | X | O \n",
      "---------\n",
      "\n"
     ]
    }
   ],
   "source": [
    "res = 1\n",
    "while not res==-1:\n",
    "    res, list_board = playTicTacToe(board=None,\n",
    "                                    method_player='smart',\n",
    "                                    method_computer='smart',\n",
    "                                    first_player=1, # computer plays second\n",
    "                                    print_board=False,\n",
    "                                    return_board=True)\n",
    "    \n",
    "display_board_history(list_board)"
   ]
  },
  {
   "cell_type": "markdown",
   "metadata": {
    "colab_type": "text",
    "id": "QQXP7s-BQN-c"
   },
   "source": [
    "The example above show that how a smart player can lose against another smart player, even when he goes first.\n",
    "\n",
    "Notice however that the second player 'tricks' the first one only by chance, as a 'smart' player only looks one step ahead. "
   ]
  },
  {
   "cell_type": "markdown",
   "metadata": {
    "colab_type": "text",
    "id": "2iBenb7YQN-l"
   },
   "source": [
    "## A smarter player against a 'smart' computer\n",
    "\n",
    "We have shown that a 'smart' player can lose against a random player or another 'smart' player, even is he is the first one to play (we also have shown that the first player has an advantage in the game of Tic Tac Toe).\n",
    "We now try to determine if it possible to have a player even smarter, that can almost never lose.\n",
    "\n",
    "Using an MCTS algorithm to learn what to play in what situation might be a solution to overpast this problem.\n",
    "\n",
    "\n",
    "Now, the 'smarter' player plays by looking in the future in order to select the most adequate action to do.\n",
    "In order to do so, each time the player has to play, it runs a Monte-Carlo tree search.\n",
    "\n",
    "From now, we will use the following parameters for MCTS:\n",
    "\n",
    "    - simulations_number, the number of simulations for a search of MCTS\n",
    "    \n",
    "    - c_param, the constant for the importance of exploration during the MCTS phase\n",
    "    \n",
    "FORMULE OU INTERVIENT LA CONSTANTE"
   ]
  },
  {
   "cell_type": "code",
   "execution_count": 18,
   "metadata": {
    "colab": {},
    "colab_type": "code",
    "id": "Oax_ugyuQN-m"
   },
   "outputs": [],
   "source": [
    "simulations_number = 500\n",
    "c_param = 1.0"
   ]
  },
  {
   "cell_type": "code",
   "execution_count": 19,
   "metadata": {
    "colab": {
     "base_uri": "https://localhost:8080/",
     "height": 119
    },
    "colab_type": "code",
    "id": "0D1fJhCKQN-p",
    "outputId": "dbccf338-c6bd-4410-c980-4904b032bf31"
   },
   "outputs": [
    {
     "name": "stderr",
     "output_type": "stream",
     "text": [
      "100%|██████████| 1000/1000 [15:43<00:00,  1.20it/s]"
     ]
    },
    {
     "name": "stdout",
     "output_type": "stream",
     "text": [
      "Number of games:  1000\n",
      "A smarter player against a 'smart' computer (computer plays first): \n",
      " Counter({0: 0.823, 1.0: 0.144, -1.0: 0.033})\n",
      "CPU times: user 16min 7s, sys: 23.5 s, total: 16min 31s\n",
      "Wall time: 15min 43s\n"
     ]
    },
    {
     "name": "stderr",
     "output_type": "stream",
     "text": [
      "\n"
     ]
    }
   ],
   "source": [
    "%%time\n",
    "print(\"Number of games: \", n_games)\n",
    "for first_player in [-1, 1]:\n",
    "    print(\"first player: \", first_player)\n",
    "    res_list = []\n",
    "    for _ in tqdm(range(n_games)):\n",
    "      res = playTicTacToe(board=None,\n",
    "                          method_player='mcts',\n",
    "                          method_computer='smart',\n",
    "                          first_player=first_player, # 1: player first, -1: computer first\n",
    "                          print_board=False,\n",
    "                          simulations_number=simulations_number,\n",
    "                          c_param=c_param)\n",
    "      res_list.append(res)\n",
    "\n",
    "    count_res = Counter(res_list)\n",
    "    print(\"A smarter player against a 'smart' computer: \\n\",\n",
    "          getResultProp(count_res))\n",
    "\n",
    "    # Save results into csv and on the Drive\n",
    "    dict_res = getDictResult(counter=count_res,\n",
    "                             method='mcts',\n",
    "                             player=1,\n",
    "                             first_player=first_player)\n",
    "    df_smart = df_smart.append(dict_res , ignore_index=True)\n",
    "    df_smart.to_csv('df_smart.csv', sep=';')\n",
    "    if use_drive:\n",
    "        !cp df_smart.csv \"drive/My Drive/RL/\"\n",
    "        \n",
    "    # save in df_simulations_number\n",
    "    dict_res = getDictResult(counter=count_res,\n",
    "                             method='mcts_'+str(simulations_number),\n",
    "                             player=1,\n",
    "                             first_player=first_player)\n",
    "    df_simulations_number = df_simulations_number.append(dict_res , ignore_index=True)\n",
    "    df_simulations_number.to_csv('df_simulations_number.csv', sep=';')\n",
    "    if use_drive:\n",
    "        !cp df_simulations_number.csv \"drive/My Drive/RL/\"\n",
    "        \n",
    "    # save in df_exploration\n",
    "    dict_res = getDictResult(counter=count_res,\n",
    "                             method='mcts_'+str(c_param),\n",
    "                             player=1,\n",
    "                             first_player=first_player)\n",
    "    df_exploration = df_exploration.append(dict_res , ignore_index=True)\n",
    "    df_exploration.to_csv('df_exploration.csv', sep=';')\n",
    "    if use_drive:\n",
    "        !cp df_exploration.csv \"drive/My Drive/RL/\""
   ]
  },
  {
   "cell_type": "markdown",
   "metadata": {
    "colab_type": "text",
    "id": "b_1ozae4RGEQ"
   },
   "source": [
    "When a player with a MCTS policy plays agains a smart player, the result of the game highly depends on who plays first.\n",
    "\n",
    "Indeed, if it is the smart player that goes first, the game has more than 82% of chance to finishes with a draw. The MCTS can also win sometimes (15% of the time) and can almost never be defeated (loses only 3% of the time).\n",
    "\n",
    "But, when it is the MCTS players that starts to play, he wins 60% of the time, the chance to finishes with a draw are less than 40%, and the probability that the MCTS loses the game is almost null."
   ]
  },
  {
   "cell_type": "code",
   "execution_count": null,
   "metadata": {
    "colab": {},
    "colab_type": "code",
    "id": "xnbt3ci_VAfB"
   },
   "outputs": [],
   "source": [
    "# we fill df_random for a player with a mcts policy\n",
    "print(\"Number of games: \", n_games)\n",
    "for first_player in [-1, 1]:\n",
    "    print(\"first player: \", first_player)\n",
    "    res_list = []\n",
    "    for _ in tqdm(range(n_games)):\n",
    "        res = playTicTacToe(board=None,\n",
    "                            method_player='mcts',\n",
    "                            method_computer='random',\n",
    "                            first_player=first_player,\n",
    "                            print_board=False,\n",
    "                            simulations_number=simulations_number,\n",
    "                            c_param=c_param)\n",
    "        res_list.append(res)\n",
    "    count_res = Counter(res_list)\n",
    "    print(\"A smarter player against a 'smart' computer: \\n\",\n",
    "          getResultProp(count_res))\n",
    "\n",
    "    # Save results into csv and on the Drive\n",
    "    dict_res = getDictResult(counter=count_res,\n",
    "                             method='mcts',\n",
    "                             player=1,\n",
    "                             first_player=first_player)\n",
    "    df_random = df_random.append(dict_res , ignore_index=True)\n",
    "    df_random.to_csv('df_random.csv', sep=';')\n",
    "    if use_drive:\n",
    "        !cp df_random.csv \"drive/My Drive/RL/\"\n"
   ]
  },
  {
   "cell_type": "markdown",
   "metadata": {
    "colab_type": "text",
    "id": "omszt7IBQN-z"
   },
   "source": [
    "## Two MCTS players"
   ]
  },
  {
   "cell_type": "code",
   "execution_count": 10,
   "metadata": {
    "colab": {
     "base_uri": "https://localhost:8080/",
     "height": 119
    },
    "colab_type": "code",
    "id": "m4Tn8bKRQN-9",
    "outputId": "9f85a114-37cd-4820-a888-0754b3c407e3"
   },
   "outputs": [
    {
     "name": "stderr",
     "output_type": "stream",
     "text": [
      "100%|██████████| 1000/1000 [33:06<00:00,  1.66s/it]"
     ]
    },
    {
     "name": "stdout",
     "output_type": "stream",
     "text": [
      "Number of games:  1000\n",
      "Two MCTS players (computer plays second): \n",
      " Counter({0: 0.918, 1.0: 0.082})\n",
      "CPU times: user 33min 56s, sys: 51.4 s, total: 34min 48s\n",
      "Wall time: 33min 6s\n"
     ]
    },
    {
     "name": "stderr",
     "output_type": "stream",
     "text": [
      "\n"
     ]
    }
   ],
   "source": [
    "%%time\n",
    "# computer plays second\n",
    "res_list = []\n",
    "for _ in tqdm(range(n_games)):\n",
    "  res = playTicTacToe(board=None,\n",
    "                      method_player='mcts',\n",
    "                      method_computer='mcts',\n",
    "                      first_player=1, # computer plays second\n",
    "                      print_board=False,\n",
    "                      simulations_number=simulations_number,\n",
    "                      c_param=c_param)\n",
    "  res_list.append(res)\n",
    "\n",
    "print(\"Number of games: \", n_games)\n",
    "print(\"Two MCTS players (computer plays second): \\n\", getResultProp(Counter(res_list)))"
   ]
  },
  {
   "cell_type": "markdown",
   "metadata": {
    "colab_type": "text",
    "id": "W5JBVCsmH3Yd"
   },
   "source": [
    "When two players have a MCTS policy, we see that most of the games finish with a draw (more than 90% of the time), but when it does not, the game is won by the payer that went first, thus confirming a player's advantage to play first."
   ]
  },
  {
   "cell_type": "code",
   "execution_count": 19,
   "metadata": {},
   "outputs": [
    {
     "data": {
      "text/html": [
       "<div>\n",
       "<style scoped>\n",
       "    .dataframe tbody tr th:only-of-type {\n",
       "        vertical-align: middle;\n",
       "    }\n",
       "\n",
       "    .dataframe tbody tr th {\n",
       "        vertical-align: top;\n",
       "    }\n",
       "\n",
       "    .dataframe thead th {\n",
       "        text-align: right;\n",
       "    }\n",
       "</style>\n",
       "<table border=\"1\" class=\"dataframe\">\n",
       "  <thead>\n",
       "    <tr style=\"text-align: right;\">\n",
       "      <th></th>\n",
       "      <th>method</th>\n",
       "      <th>play_order</th>\n",
       "      <th>victory</th>\n",
       "      <th>draw</th>\n",
       "      <th>defeat</th>\n",
       "    </tr>\n",
       "  </thead>\n",
       "  <tbody>\n",
       "    <tr>\n",
       "      <td>0</td>\n",
       "      <td>random</td>\n",
       "      <td>1</td>\n",
       "      <td>562</td>\n",
       "      <td>116</td>\n",
       "      <td>322</td>\n",
       "    </tr>\n",
       "    <tr>\n",
       "      <td>1</td>\n",
       "      <td>smart</td>\n",
       "      <td>2</td>\n",
       "      <td>679</td>\n",
       "      <td>252</td>\n",
       "      <td>69</td>\n",
       "    </tr>\n",
       "    <tr>\n",
       "      <td>2</td>\n",
       "      <td>smart</td>\n",
       "      <td>1</td>\n",
       "      <td>900</td>\n",
       "      <td>90</td>\n",
       "      <td>10</td>\n",
       "    </tr>\n",
       "    <tr>\n",
       "      <td>3</td>\n",
       "      <td>mcts</td>\n",
       "      <td>2</td>\n",
       "      <td>914</td>\n",
       "      <td>82</td>\n",
       "      <td>4</td>\n",
       "    </tr>\n",
       "    <tr>\n",
       "      <td>4</td>\n",
       "      <td>mcts</td>\n",
       "      <td>1</td>\n",
       "      <td>980</td>\n",
       "      <td>20</td>\n",
       "      <td>0</td>\n",
       "    </tr>\n",
       "  </tbody>\n",
       "</table>\n",
       "</div>"
      ],
      "text/plain": [
       "   method  play_order  victory  draw  defeat\n",
       "0  random           1      562   116     322\n",
       "1   smart           2      679   252      69\n",
       "2   smart           1      900    90      10\n",
       "3    mcts           2      914    82       4\n",
       "4    mcts           1      980    20       0"
      ]
     },
     "execution_count": 19,
     "metadata": {},
     "output_type": "execute_result"
    }
   ],
   "source": [
    "# run to read the csvs with results obtained\n",
    "#df_random = pd.read_csv('df_random_full.csv', sep=';', index_col=0)\n",
    "#df_random"
   ]
  },
  {
   "cell_type": "code",
   "execution_count": 20,
   "metadata": {},
   "outputs": [
    {
     "data": {
      "text/html": [
       "<div>\n",
       "<style scoped>\n",
       "    .dataframe tbody tr th:only-of-type {\n",
       "        vertical-align: middle;\n",
       "    }\n",
       "\n",
       "    .dataframe tbody tr th {\n",
       "        vertical-align: top;\n",
       "    }\n",
       "\n",
       "    .dataframe thead th {\n",
       "        text-align: right;\n",
       "    }\n",
       "</style>\n",
       "<table border=\"1\" class=\"dataframe\">\n",
       "  <thead>\n",
       "    <tr style=\"text-align: right;\">\n",
       "      <th></th>\n",
       "      <th>method</th>\n",
       "      <th>play_order</th>\n",
       "      <th>victory</th>\n",
       "      <th>draw</th>\n",
       "      <th>defeat</th>\n",
       "    </tr>\n",
       "  </thead>\n",
       "  <tbody>\n",
       "    <tr>\n",
       "      <td>0</td>\n",
       "      <td>smart</td>\n",
       "      <td>1</td>\n",
       "      <td>283</td>\n",
       "      <td>524</td>\n",
       "      <td>193</td>\n",
       "    </tr>\n",
       "    <tr>\n",
       "      <td>1</td>\n",
       "      <td>mcts</td>\n",
       "      <td>2</td>\n",
       "      <td>144</td>\n",
       "      <td>823</td>\n",
       "      <td>33</td>\n",
       "    </tr>\n",
       "    <tr>\n",
       "      <td>2</td>\n",
       "      <td>mcts</td>\n",
       "      <td>1</td>\n",
       "      <td>613</td>\n",
       "      <td>386</td>\n",
       "      <td>1</td>\n",
       "    </tr>\n",
       "  </tbody>\n",
       "</table>\n",
       "</div>"
      ],
      "text/plain": [
       "  method  play_order  victory  draw  defeat\n",
       "0  smart           1      283   524     193\n",
       "1   mcts           2      144   823      33\n",
       "2   mcts           1      613   386       1"
      ]
     },
     "execution_count": 20,
     "metadata": {},
     "output_type": "execute_result"
    }
   ],
   "source": [
    "# run to read the csvs with results obtained\n",
    "#df_smart = pd.read_csv('df_smart_full.csv', sep=',', index_col=0)\n",
    "#df_smart"
   ]
  },
  {
   "cell_type": "markdown",
   "metadata": {
    "colab_type": "text",
    "id": "zAO40rLPQN_S"
   },
   "source": [
    "## Importance of the simulatons during the MCTS"
   ]
  },
  {
   "cell_type": "code",
   "execution_count": 15,
   "metadata": {
    "colab": {},
    "colab_type": "code",
    "id": "bwKvnVo7QN_U"
   },
   "outputs": [
    {
     "name": "stderr",
     "output_type": "stream",
     "text": [
      "100%|██████████| 1000/1000 [00:34<00:00, 28.63it/s]\n",
      "  0%|          | 2/1000 [00:00<02:21,  7.08it/s]"
     ]
    },
    {
     "name": "stdout",
     "output_type": "stream",
     "text": [
      "Number of games:  1000\n",
      "A smarter player against a 'smart' computer (computer plays first): \n",
      " Counter({-1.0: 0.693, 0: 0.22, 1.0: 0.087})\n"
     ]
    },
    {
     "name": "stderr",
     "output_type": "stream",
     "text": [
      "100%|██████████| 1000/1000 [02:40<00:00,  6.22it/s]\n",
      "  0%|          | 0/1000 [00:00<?, ?it/s]"
     ]
    },
    {
     "name": "stdout",
     "output_type": "stream",
     "text": [
      "Number of games:  1000\n",
      "A smarter player against a 'smart' computer (computer plays first): \n",
      " Counter({0: 0.482, -1.0: 0.381, 1.0: 0.137})\n"
     ]
    },
    {
     "name": "stderr",
     "output_type": "stream",
     "text": [
      "100%|██████████| 1000/1000 [05:14<00:00,  3.18it/s]\n",
      "  0%|          | 3/1000 [00:00<01:23, 11.99it/s]"
     ]
    },
    {
     "name": "stdout",
     "output_type": "stream",
     "text": [
      "Number of games:  1000\n",
      "A smarter player against a 'smart' computer (computer plays first): \n",
      " Counter({0: 0.584, -1.0: 0.241, 1.0: 0.175})\n"
     ]
    },
    {
     "name": "stderr",
     "output_type": "stream",
     "text": [
      "100%|██████████| 1000/1000 [00:45<00:00, 22.10it/s]\n",
      "  0%|          | 0/1000 [00:00<?, ?it/s]"
     ]
    },
    {
     "name": "stdout",
     "output_type": "stream",
     "text": [
      "Number of games:  1000\n",
      "A smarter player against a 'smart' computer (computer plays first): \n",
      " Counter({-1.0: 0.389, 0: 0.341, 1.0: 0.27})\n"
     ]
    },
    {
     "name": "stderr",
     "output_type": "stream",
     "text": [
      "100%|██████████| 1000/1000 [03:32<00:00,  4.70it/s]\n",
      "  0%|          | 0/1000 [00:00<?, ?it/s]"
     ]
    },
    {
     "name": "stdout",
     "output_type": "stream",
     "text": [
      "Number of games:  1000\n",
      "A smarter player against a 'smart' computer (computer plays first): \n",
      " Counter({1.0: 0.482, 0: 0.459, -1.0: 0.059})\n"
     ]
    },
    {
     "name": "stderr",
     "output_type": "stream",
     "text": [
      "100%|██████████| 1000/1000 [07:05<00:00,  2.35it/s]"
     ]
    },
    {
     "name": "stdout",
     "output_type": "stream",
     "text": [
      "Number of games:  1000\n",
      "A smarter player against a 'smart' computer (computer plays first): \n",
      " Counter({1.0: 0.534, 0: 0.439, -1.0: 0.027})\n"
     ]
    },
    {
     "name": "stderr",
     "output_type": "stream",
     "text": [
      "\n"
     ]
    }
   ],
   "source": [
    "c_param = 1.0\n",
    "\n",
    "for first_player in [-1, 1]:\n",
    "    for simulations_number in [10, 50, 100, 1000]:\n",
    "        method = 'mcts_' + str(simulations_number)\n",
    "        res_list = []\n",
    "        for _ in tqdm(range(n_games)):\n",
    "          res = playTicTacToe(board=None,\n",
    "                              method_player='mcts',\n",
    "                              method_computer='smart',\n",
    "                              first_player=first_player, # computer plays second\n",
    "                              print_board=False,\n",
    "                              simulations_number=simulations_number,\n",
    "                              c_param=c_param)\n",
    "          res_list.append(res)\n",
    "\n",
    "        print(\"Number of games: \", n_games)\n",
    "        count_res = Counter(res_list)\n",
    "        print(\"A smarter player against a 'smart' computer (computer plays first): \\n\",\n",
    "              getResultProp(count_res))\n",
    "\n",
    "        # Save results into csv\n",
    "        dict_res = getDictResult(counter=count_res,\n",
    "                                 method=method,\n",
    "                                 player=1,\n",
    "                                 first_player=first_player)\n",
    "        df_simulations_number = df_simulations_number.append(dict_res , ignore_index=True)\n",
    "        df_simulations_number.to_csv('df_simulations_number.csv', sep=';')\n",
    "        if use_drive:\n",
    "            !cp df_simulations_number.csv \"drive/My Drive/RL/\"\n",
    "    "
   ]
  },
  {
   "cell_type": "code",
   "execution_count": 21,
   "metadata": {},
   "outputs": [
    {
     "data": {
      "text/html": [
       "<div>\n",
       "<style scoped>\n",
       "    .dataframe tbody tr th:only-of-type {\n",
       "        vertical-align: middle;\n",
       "    }\n",
       "\n",
       "    .dataframe tbody tr th {\n",
       "        vertical-align: top;\n",
       "    }\n",
       "\n",
       "    .dataframe thead th {\n",
       "        text-align: right;\n",
       "    }\n",
       "</style>\n",
       "<table border=\"1\" class=\"dataframe\">\n",
       "  <thead>\n",
       "    <tr style=\"text-align: right;\">\n",
       "      <th></th>\n",
       "      <th>method</th>\n",
       "      <th>play_order</th>\n",
       "      <th>victory</th>\n",
       "      <th>draw</th>\n",
       "      <th>defeat</th>\n",
       "    </tr>\n",
       "  </thead>\n",
       "  <tbody>\n",
       "    <tr>\n",
       "      <td>0</td>\n",
       "      <td>smart</td>\n",
       "      <td>1</td>\n",
       "      <td>283</td>\n",
       "      <td>524</td>\n",
       "      <td>193</td>\n",
       "    </tr>\n",
       "    <tr>\n",
       "      <td>1</td>\n",
       "      <td>mcts_10</td>\n",
       "      <td>2</td>\n",
       "      <td>87</td>\n",
       "      <td>220</td>\n",
       "      <td>693</td>\n",
       "    </tr>\n",
       "    <tr>\n",
       "      <td>2</td>\n",
       "      <td>mcts_50</td>\n",
       "      <td>2</td>\n",
       "      <td>137</td>\n",
       "      <td>482</td>\n",
       "      <td>381</td>\n",
       "    </tr>\n",
       "    <tr>\n",
       "      <td>3</td>\n",
       "      <td>mcts_100</td>\n",
       "      <td>2</td>\n",
       "      <td>175</td>\n",
       "      <td>584</td>\n",
       "      <td>241</td>\n",
       "    </tr>\n",
       "    <tr>\n",
       "      <td>4</td>\n",
       "      <td>mcts_500</td>\n",
       "      <td>2</td>\n",
       "      <td>144</td>\n",
       "      <td>823</td>\n",
       "      <td>33</td>\n",
       "    </tr>\n",
       "    <tr>\n",
       "      <td>5</td>\n",
       "      <td>mcts_1000</td>\n",
       "      <td>2</td>\n",
       "      <td>90</td>\n",
       "      <td>899</td>\n",
       "      <td>11</td>\n",
       "    </tr>\n",
       "    <tr>\n",
       "      <td>6</td>\n",
       "      <td>mcts_10</td>\n",
       "      <td>1</td>\n",
       "      <td>270</td>\n",
       "      <td>341</td>\n",
       "      <td>389</td>\n",
       "    </tr>\n",
       "    <tr>\n",
       "      <td>7</td>\n",
       "      <td>mcts_50</td>\n",
       "      <td>1</td>\n",
       "      <td>482</td>\n",
       "      <td>459</td>\n",
       "      <td>59</td>\n",
       "    </tr>\n",
       "    <tr>\n",
       "      <td>8</td>\n",
       "      <td>mcts_100</td>\n",
       "      <td>1</td>\n",
       "      <td>534</td>\n",
       "      <td>439</td>\n",
       "      <td>27</td>\n",
       "    </tr>\n",
       "    <tr>\n",
       "      <td>9</td>\n",
       "      <td>mcts_500</td>\n",
       "      <td>1</td>\n",
       "      <td>613</td>\n",
       "      <td>386</td>\n",
       "      <td>1</td>\n",
       "    </tr>\n",
       "    <tr>\n",
       "      <td>10</td>\n",
       "      <td>mcts_1000</td>\n",
       "      <td>1</td>\n",
       "      <td>525</td>\n",
       "      <td>475</td>\n",
       "      <td>0</td>\n",
       "    </tr>\n",
       "  </tbody>\n",
       "</table>\n",
       "</div>"
      ],
      "text/plain": [
       "       method  play_order  victory  draw  defeat\n",
       "0       smart           1      283   524     193\n",
       "1     mcts_10           2       87   220     693\n",
       "2     mcts_50           2      137   482     381\n",
       "3    mcts_100           2      175   584     241\n",
       "4    mcts_500           2      144   823      33\n",
       "5   mcts_1000           2       90   899      11\n",
       "6     mcts_10           1      270   341     389\n",
       "7     mcts_50           1      482   459      59\n",
       "8    mcts_100           1      534   439      27\n",
       "9    mcts_500           1      613   386       1\n",
       "10  mcts_1000           1      525   475       0"
      ]
     },
     "execution_count": 21,
     "metadata": {},
     "output_type": "execute_result"
    }
   ],
   "source": [
    "# run to read the csv with results obtained\n",
    "#df_simulations_number = pd.read_csv('df_simulations_number_full.csv', sep=';', index_col=0)\n",
    "#df_simulations_number"
   ]
  },
  {
   "cell_type": "code",
   "execution_count": 22,
   "metadata": {},
   "outputs": [
    {
     "data": {
      "image/png": "[encoded data removed]",
      "text/plain": [
       "<Figure size 720x504 with 1 Axes>"
      ]
     },
     "metadata": {
      "needs_background": "light"
     },
     "output_type": "display_data"
    },
    {
     "data": {
      "image/png": "[encoded data removed]",
      "text/plain": [
       "<Figure size 720x504 with 1 Axes>"
      ]
     },
     "metadata": {
      "needs_background": "light"
     },
     "output_type": "display_data"
    },
    {
     "data": {
      "image/png": "[encoded data removed]",
      "text/plain": [
       "<Figure size 720x504 with 1 Axes>"
      ]
     },
     "metadata": {
      "needs_background": "light"
     },
     "output_type": "display_data"
    }
   ],
   "source": [
    "baseline_smart = df_simulations_number[['victory', 'draw', 'defeat']][df_simulations_number['method']=='smart']\n",
    "\n",
    "idx_smart = df_simulations_number.index[df_simulations_number['method'] == 'smart'].tolist()\n",
    "df_simulations_number.drop(idx_smart, inplace=True)\n",
    "\n",
    "df_simulations_number_1 = df_simulations_number[df_simulations_number['play_order']==1]\n",
    "df_simulations_number_1 = df_simulations_number_1.set_index('method')\n",
    "df_simulations_number_2 = df_simulations_number[df_simulations_number['play_order']==2]\n",
    "df_simulations_number_2 = df_simulations_number_2.set_index('method')\n",
    "\n",
    "for field in ['victory', 'draw', 'defeat']:\n",
    "    plt.figure(figsize=(10,7))\n",
    "    plt.plot(df_simulations_number_1.index,\n",
    "             [baseline_smart[field] for _ in range(len(df_simulations_number_1.index))],\n",
    "             label='baseline smart')\n",
    "    plt.plot(df_simulations_number_1.index,\n",
    "             df_simulations_number_1[field],\n",
    "             label=field+' (play first)')\n",
    "    plt.plot(df_simulations_number_2.index,\n",
    "             df_simulations_number_2[field],\n",
    "             label=field+' (play second)')\n",
    "    plt.plot(df_simulations_number_2.index,\n",
    "             (df_simulations_number_1[field] + df_simulations_number_2[field])/2,\n",
    "             label=field+' (mean)')\n",
    "    plt.xlabel('Number of simulation for MCTS')\n",
    "    plt.ylabel('Number of '+field)\n",
    "    plt.title('Performances for different number of simuation for MCTS, for 1 000 games')\n",
    "    plt.legend(loc='best')\n",
    "    plt.show()"
   ]
  },
  {
   "cell_type": "markdown",
   "metadata": {},
   "source": [
    "## Importance of the exploration constant"
   ]
  },
  {
   "cell_type": "code",
   "execution_count": 72,
   "metadata": {},
   "outputs": [
    {
     "name": "stderr",
     "output_type": "stream",
     "text": [
      "  0%|          | 5/1000 [00:09<30:23,  1.83s/it]\n"
     ]
    },
    {
     "ename": "KeyboardInterrupt",
     "evalue": "",
     "output_type": "error",
     "traceback": [
      "\u001b[0;31m---------------------------------------------------------------------------\u001b[0m",
      "\u001b[0;31mKeyboardInterrupt\u001b[0m                         Traceback (most recent call last)",
      "\u001b[0;32m<ipython-input-72-2b27e9c4c891>\u001b[0m in \u001b[0;36m<module>\u001b[0;34m\u001b[0m\n\u001b[1;32m     12\u001b[0m                               \u001b[0mprint_board\u001b[0m\u001b[0;34m=\u001b[0m\u001b[0;32mFalse\u001b[0m\u001b[0;34m,\u001b[0m\u001b[0;34m\u001b[0m\u001b[0;34m\u001b[0m\u001b[0m\n\u001b[1;32m     13\u001b[0m                               \u001b[0msimulations_number\u001b[0m\u001b[0;34m=\u001b[0m\u001b[0msimulations_number\u001b[0m\u001b[0;34m,\u001b[0m\u001b[0;34m\u001b[0m\u001b[0;34m\u001b[0m\u001b[0m\n\u001b[0;32m---> 14\u001b[0;31m                               c_param=c_param)\n\u001b[0m\u001b[1;32m     15\u001b[0m           \u001b[0mres_list\u001b[0m\u001b[0;34m.\u001b[0m\u001b[0mappend\u001b[0m\u001b[0;34m(\u001b[0m\u001b[0mres\u001b[0m\u001b[0;34m)\u001b[0m\u001b[0;34m\u001b[0m\u001b[0;34m\u001b[0m\u001b[0m\n\u001b[1;32m     16\u001b[0m \u001b[0;34m\u001b[0m\u001b[0m\n",
      "\u001b[0;32m<ipython-input-4-4d2c0c4d828a>\u001b[0m in \u001b[0;36mplayTicTacToe\u001b[0;34m(board, method_player, method_computer, first_player, print_board, return_board, simulations_number, c_param)\u001b[0m\n\u001b[1;32m     47\u001b[0m             \u001b[0minitial_board_state\u001b[0m \u001b[0;34m=\u001b[0m \u001b[0mTicTacToeGameState\u001b[0m\u001b[0;34m(\u001b[0m\u001b[0mstate\u001b[0m\u001b[0;34m=\u001b[0m\u001b[0mgame\u001b[0m\u001b[0;34m.\u001b[0m\u001b[0mboard\u001b[0m\u001b[0;34m,\u001b[0m \u001b[0mnext_to_move\u001b[0m\u001b[0;34m=\u001b[0m\u001b[0mgame\u001b[0m\u001b[0;34m.\u001b[0m\u001b[0mnext_to_move\u001b[0m\u001b[0;34m)\u001b[0m\u001b[0;34m\u001b[0m\u001b[0;34m\u001b[0m\u001b[0m\n\u001b[1;32m     48\u001b[0m             \u001b[0mroot\u001b[0m \u001b[0;34m=\u001b[0m \u001b[0mTwoPlayersGameMonteCarloTreeSearchNode\u001b[0m\u001b[0;34m(\u001b[0m\u001b[0mstate\u001b[0m\u001b[0;34m=\u001b[0m\u001b[0minitial_board_state\u001b[0m\u001b[0;34m)\u001b[0m\u001b[0;34m\u001b[0m\u001b[0;34m\u001b[0m\u001b[0m\n\u001b[0;32m---> 49\u001b[0;31m             \u001b[0mbest_node\u001b[0m \u001b[0;34m=\u001b[0m \u001b[0mMonteCarloTreeSearch\u001b[0m\u001b[0;34m(\u001b[0m\u001b[0mroot\u001b[0m\u001b[0;34m)\u001b[0m\u001b[0;34m.\u001b[0m\u001b[0mbest_action\u001b[0m\u001b[0;34m(\u001b[0m\u001b[0msimulations_number\u001b[0m\u001b[0;34m=\u001b[0m\u001b[0msimulations_number\u001b[0m\u001b[0;34m,\u001b[0m \u001b[0mc_param\u001b[0m\u001b[0;34m=\u001b[0m\u001b[0mc_param\u001b[0m\u001b[0;34m)\u001b[0m\u001b[0;34m\u001b[0m\u001b[0;34m\u001b[0m\u001b[0m\n\u001b[0m\u001b[1;32m     50\u001b[0m             \u001b[0mgame\u001b[0m\u001b[0;34m.\u001b[0m\u001b[0mboard\u001b[0m \u001b[0;34m=\u001b[0m \u001b[0mbest_node\u001b[0m\u001b[0;34m.\u001b[0m\u001b[0mstate\u001b[0m\u001b[0;34m.\u001b[0m\u001b[0mboard\u001b[0m\u001b[0;34m\u001b[0m\u001b[0;34m\u001b[0m\u001b[0m\n\u001b[1;32m     51\u001b[0m             \u001b[0mgame\u001b[0m\u001b[0;34m.\u001b[0m\u001b[0mnext_to_move\u001b[0m \u001b[0;34m*=\u001b[0m \u001b[0;34m-\u001b[0m\u001b[0;36m1\u001b[0m\u001b[0;34m\u001b[0m\u001b[0;34m\u001b[0m\u001b[0m\n",
      "\u001b[0;32m<ipython-input-3-911678b25359>\u001b[0m in \u001b[0;36mbest_action\u001b[0;34m(self, simulations_number, c_param)\u001b[0m\n\u001b[1;32m     23\u001b[0m         \u001b[0;32mfor\u001b[0m \u001b[0m_\u001b[0m \u001b[0;32min\u001b[0m \u001b[0mrange\u001b[0m\u001b[0;34m(\u001b[0m\u001b[0;36m0\u001b[0m\u001b[0;34m,\u001b[0m \u001b[0msimulations_number\u001b[0m\u001b[0;34m)\u001b[0m\u001b[0;34m:\u001b[0m\u001b[0;34m\u001b[0m\u001b[0;34m\u001b[0m\u001b[0m\n\u001b[1;32m     24\u001b[0m             \u001b[0mv\u001b[0m \u001b[0;34m=\u001b[0m \u001b[0mself\u001b[0m\u001b[0;34m.\u001b[0m\u001b[0m_tree_policy\u001b[0m\u001b[0;34m(\u001b[0m\u001b[0;34m)\u001b[0m\u001b[0;34m\u001b[0m\u001b[0;34m\u001b[0m\u001b[0m\n\u001b[0;32m---> 25\u001b[0;31m             \u001b[0mreward\u001b[0m \u001b[0;34m=\u001b[0m \u001b[0mv\u001b[0m\u001b[0;34m.\u001b[0m\u001b[0mrollout\u001b[0m\u001b[0;34m(\u001b[0m\u001b[0;34m)\u001b[0m\u001b[0;34m\u001b[0m\u001b[0;34m\u001b[0m\u001b[0m\n\u001b[0m\u001b[1;32m     26\u001b[0m             \u001b[0mv\u001b[0m\u001b[0;34m.\u001b[0m\u001b[0mbackpropagate\u001b[0m\u001b[0;34m(\u001b[0m\u001b[0mreward\u001b[0m\u001b[0;34m)\u001b[0m\u001b[0;34m\u001b[0m\u001b[0;34m\u001b[0m\u001b[0m\n\u001b[1;32m     27\u001b[0m         \u001b[0;31m# to select best child go for exploitation only\u001b[0m\u001b[0;34m\u001b[0m\u001b[0;34m\u001b[0m\u001b[0;34m\u001b[0m\u001b[0m\n",
      "\u001b[0;32m~/anaconda3/lib/python3.7/site-packages/mctspy/tree/nodes.py\u001b[0m in \u001b[0;36mrollout\u001b[0;34m(self)\u001b[0m\n\u001b[1;32m    108\u001b[0m         \u001b[0mcurrent_rollout_state\u001b[0m \u001b[0;34m=\u001b[0m \u001b[0mself\u001b[0m\u001b[0;34m.\u001b[0m\u001b[0mstate\u001b[0m\u001b[0;34m\u001b[0m\u001b[0;34m\u001b[0m\u001b[0m\n\u001b[1;32m    109\u001b[0m         \u001b[0;32mwhile\u001b[0m \u001b[0;32mnot\u001b[0m \u001b[0mcurrent_rollout_state\u001b[0m\u001b[0;34m.\u001b[0m\u001b[0mis_game_over\u001b[0m\u001b[0;34m(\u001b[0m\u001b[0;34m)\u001b[0m\u001b[0;34m:\u001b[0m\u001b[0;34m\u001b[0m\u001b[0;34m\u001b[0m\u001b[0m\n\u001b[0;32m--> 110\u001b[0;31m             \u001b[0mpossible_moves\u001b[0m \u001b[0;34m=\u001b[0m \u001b[0mcurrent_rollout_state\u001b[0m\u001b[0;34m.\u001b[0m\u001b[0mget_legal_actions\u001b[0m\u001b[0;34m(\u001b[0m\u001b[0;34m)\u001b[0m\u001b[0;34m\u001b[0m\u001b[0;34m\u001b[0m\u001b[0m\n\u001b[0m\u001b[1;32m    111\u001b[0m             \u001b[0maction\u001b[0m \u001b[0;34m=\u001b[0m \u001b[0mself\u001b[0m\u001b[0;34m.\u001b[0m\u001b[0mrollout_policy\u001b[0m\u001b[0;34m(\u001b[0m\u001b[0mpossible_moves\u001b[0m\u001b[0;34m)\u001b[0m\u001b[0;34m\u001b[0m\u001b[0;34m\u001b[0m\u001b[0m\n\u001b[1;32m    112\u001b[0m             \u001b[0mcurrent_rollout_state\u001b[0m \u001b[0;34m=\u001b[0m \u001b[0mcurrent_rollout_state\u001b[0m\u001b[0;34m.\u001b[0m\u001b[0mmove\u001b[0m\u001b[0;34m(\u001b[0m\u001b[0maction\u001b[0m\u001b[0;34m)\u001b[0m\u001b[0;34m\u001b[0m\u001b[0;34m\u001b[0m\u001b[0m\n",
      "\u001b[0;32m~/anaconda3/lib/python3.7/site-packages/mctspy/games/examples/tictactoe.py\u001b[0m in \u001b[0;36mget_legal_actions\u001b[0;34m(self)\u001b[0m\n\u001b[1;32m     98\u001b[0m         return [\n\u001b[1;32m     99\u001b[0m             \u001b[0mTicTacToeMove\u001b[0m\u001b[0;34m(\u001b[0m\u001b[0mcoords\u001b[0m\u001b[0;34m[\u001b[0m\u001b[0;36m0\u001b[0m\u001b[0;34m]\u001b[0m\u001b[0;34m,\u001b[0m \u001b[0mcoords\u001b[0m\u001b[0;34m[\u001b[0m\u001b[0;36m1\u001b[0m\u001b[0;34m]\u001b[0m\u001b[0;34m,\u001b[0m \u001b[0mself\u001b[0m\u001b[0;34m.\u001b[0m\u001b[0mnext_to_move\u001b[0m\u001b[0;34m)\u001b[0m\u001b[0;34m\u001b[0m\u001b[0;34m\u001b[0m\u001b[0m\n\u001b[0;32m--> 100\u001b[0;31m             \u001b[0;32mfor\u001b[0m \u001b[0mcoords\u001b[0m \u001b[0;32min\u001b[0m \u001b[0mlist\u001b[0m\u001b[0;34m(\u001b[0m\u001b[0mzip\u001b[0m\u001b[0;34m(\u001b[0m\u001b[0mindices\u001b[0m\u001b[0;34m[\u001b[0m\u001b[0;36m0\u001b[0m\u001b[0;34m]\u001b[0m\u001b[0;34m,\u001b[0m \u001b[0mindices\u001b[0m\u001b[0;34m[\u001b[0m\u001b[0;36m1\u001b[0m\u001b[0;34m]\u001b[0m\u001b[0;34m)\u001b[0m\u001b[0;34m)\u001b[0m\u001b[0;34m\u001b[0m\u001b[0;34m\u001b[0m\u001b[0m\n\u001b[0m\u001b[1;32m    101\u001b[0m         ]\n",
      "\u001b[0;32m~/anaconda3/lib/python3.7/site-packages/mctspy/games/examples/tictactoe.py\u001b[0m in \u001b[0;36m<listcomp>\u001b[0;34m(.0)\u001b[0m\n\u001b[1;32m     98\u001b[0m         return [\n\u001b[1;32m     99\u001b[0m             \u001b[0mTicTacToeMove\u001b[0m\u001b[0;34m(\u001b[0m\u001b[0mcoords\u001b[0m\u001b[0;34m[\u001b[0m\u001b[0;36m0\u001b[0m\u001b[0;34m]\u001b[0m\u001b[0;34m,\u001b[0m \u001b[0mcoords\u001b[0m\u001b[0;34m[\u001b[0m\u001b[0;36m1\u001b[0m\u001b[0;34m]\u001b[0m\u001b[0;34m,\u001b[0m \u001b[0mself\u001b[0m\u001b[0;34m.\u001b[0m\u001b[0mnext_to_move\u001b[0m\u001b[0;34m)\u001b[0m\u001b[0;34m\u001b[0m\u001b[0;34m\u001b[0m\u001b[0m\n\u001b[0;32m--> 100\u001b[0;31m             \u001b[0;32mfor\u001b[0m \u001b[0mcoords\u001b[0m \u001b[0;32min\u001b[0m \u001b[0mlist\u001b[0m\u001b[0;34m(\u001b[0m\u001b[0mzip\u001b[0m\u001b[0;34m(\u001b[0m\u001b[0mindices\u001b[0m\u001b[0;34m[\u001b[0m\u001b[0;36m0\u001b[0m\u001b[0;34m]\u001b[0m\u001b[0;34m,\u001b[0m \u001b[0mindices\u001b[0m\u001b[0;34m[\u001b[0m\u001b[0;36m1\u001b[0m\u001b[0;34m]\u001b[0m\u001b[0;34m)\u001b[0m\u001b[0;34m)\u001b[0m\u001b[0;34m\u001b[0m\u001b[0;34m\u001b[0m\u001b[0m\n\u001b[0m\u001b[1;32m    101\u001b[0m         ]\n",
      "\u001b[0;32m~/anaconda3/lib/python3.7/site-packages/mctspy/games/examples/tictactoe.py\u001b[0m in \u001b[0;36m__init__\u001b[0;34m(self, x_coordinate, y_coordinate, value)\u001b[0m\n\u001b[1;32m      7\u001b[0m         \u001b[0mself\u001b[0m\u001b[0;34m.\u001b[0m\u001b[0mx_coordinate\u001b[0m \u001b[0;34m=\u001b[0m \u001b[0mx_coordinate\u001b[0m\u001b[0;34m\u001b[0m\u001b[0;34m\u001b[0m\u001b[0m\n\u001b[1;32m      8\u001b[0m         \u001b[0mself\u001b[0m\u001b[0;34m.\u001b[0m\u001b[0my_coordinate\u001b[0m \u001b[0;34m=\u001b[0m \u001b[0my_coordinate\u001b[0m\u001b[0;34m\u001b[0m\u001b[0;34m\u001b[0m\u001b[0m\n\u001b[0;32m----> 9\u001b[0;31m         \u001b[0mself\u001b[0m\u001b[0;34m.\u001b[0m\u001b[0mvalue\u001b[0m \u001b[0;34m=\u001b[0m \u001b[0mvalue\u001b[0m\u001b[0;34m\u001b[0m\u001b[0;34m\u001b[0m\u001b[0m\n\u001b[0m\u001b[1;32m     10\u001b[0m \u001b[0;34m\u001b[0m\u001b[0m\n\u001b[1;32m     11\u001b[0m     \u001b[0;32mdef\u001b[0m \u001b[0m__repr__\u001b[0m\u001b[0;34m(\u001b[0m\u001b[0mself\u001b[0m\u001b[0;34m)\u001b[0m\u001b[0;34m:\u001b[0m\u001b[0;34m\u001b[0m\u001b[0;34m\u001b[0m\u001b[0m\n",
      "\u001b[0;31mKeyboardInterrupt\u001b[0m: "
     ]
    }
   ],
   "source": [
    "simulations_number = 500\n",
    "\n",
    "for first_player in [-1, 1]:\n",
    "    for c_param in [0, 0.2, 0.4, 0.6, 0.8, 1]:\n",
    "        method = 'mcts_' + str(c_param)\n",
    "        res_list = []\n",
    "        for _ in tqdm(range(n_games)):\n",
    "          res = playTicTacToe(board=None,\n",
    "                              method_player='mcts',\n",
    "                              method_computer='smart',\n",
    "                              first_player=first_player,\n",
    "                              print_board=False,\n",
    "                              simulations_number=simulations_number,\n",
    "                              c_param=c_param)\n",
    "          res_list.append(res)\n",
    "\n",
    "        print(\"Number of games: \", n_games)\n",
    "        count_res = Counter(res_list)\n",
    "        print(\"A smarter player against a 'smart' computer (computer plays first): \\n\",\n",
    "              getResultProp(count_res))\n",
    "\n",
    "        # Save results into csv\n",
    "        dict_res = getDictResult(counter=count_res,\n",
    "                                 method=method,\n",
    "                                 player=1,\n",
    "                                 first_player=first_player)\n",
    "        df_exploration = df_exploration.append(dict_res , ignore_index=True)\n",
    "        df_exploration.to_csv('df_exploration.csv', sep=';')\n",
    "        if use_drive:\n",
    "            !cp df_exploration.csv \"drive/My Drive/RL/\""
   ]
  },
  {
   "cell_type": "code",
   "execution_count": 95,
   "metadata": {},
   "outputs": [],
   "source": [
    "# run to read the csv with results obtained\n",
    "#df_exploration = pd.read_csv(\"df_exploration_full.csv\", sep=',', index_col=0)\n",
    "#df_exploration"
   ]
  },
  {
   "cell_type": "code",
   "execution_count": 96,
   "metadata": {},
   "outputs": [
    {
     "data": {
      "image/png": "[encoded data removed]",
      "text/plain": [
       "<Figure size 720x504 with 1 Axes>"
      ]
     },
     "metadata": {},
     "output_type": "display_data"
    },
    {
     "data": {
      "image/png": "[encoded data removed]",
      "text/plain": [
       "<Figure size 720x504 with 1 Axes>"
      ]
     },
     "metadata": {},
     "output_type": "display_data"
    },
    {
     "data": {
      "image/png": "[encoded data removed]",
      "text/plain": [
       "<Figure size 720x504 with 1 Axes>"
      ]
     },
     "metadata": {},
     "output_type": "display_data"
    }
   ],
   "source": [
    "df_exploration_1 = df_exploration[df_exploration['play_order']==1]\n",
    "df_exploration_1 = df_exploration_1.set_index('method')\n",
    "df_exploration_2 = df_exploration[df_exploration['play_order']==2]\n",
    "df_exploration_2 = df_exploration_2.set_index('method')\n",
    "\n",
    "for field in ['victory', 'draw', 'defeat']:\n",
    "    plt.figure(figsize=(10,7))\n",
    "    #plt.plot(df_exploration_1.index,\n",
    "    #         [baseline_smart[field] for _ in range(len(df_exploration_1.index))],\n",
    "    #         label='baseline smart')\n",
    "    plt.plot(df_exploration_1.index,\n",
    "             df_exploration_1[field],\n",
    "             label=field+' (play first)')\n",
    "    plt.plot(df_exploration_2.index,\n",
    "             df_exploration_2[field],\n",
    "             label=field+' (play second)')\n",
    "    plt.plot(df_exploration_2.index,\n",
    "             (df_exploration_1[field] + df_exploration_2[field])/2,\n",
    "             label=field+' (mean)')\n",
    "    plt.xlabel('Exploration constant for MCTS')\n",
    "    plt.ylabel('Number of '+field)\n",
    "    plt.title('Performances for different value of the exploration constant for MCTS, for 1 000 games')\n",
    "    plt.legend(loc='best')\n",
    "    plt.show()"
   ]
  }
 ],
 "metadata": {
  "accelerator": "GPU",
  "colab": {
   "collapsed_sections": [],
   "name": "RL_project_v2.ipynb",
   "provenance": [],
   "toc_visible": true
  },
  "kernelspec": {
   "display_name": "Python 3",
   "language": "python",
   "name": "python3"
  },
  "language_info": {
   "codemirror_mode": {
    "name": "ipython",
    "version": 3
   },
   "file_extension": ".py",
   "mimetype": "text/x-python",
   "name": "python",
   "nbconvert_exporter": "python",
   "pygments_lexer": "ipython3",
   "version": "3.7.4"
  }
 },
 "nbformat": 4,
 "nbformat_minor": 4
}
